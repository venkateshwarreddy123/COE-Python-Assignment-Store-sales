{
 "cells": [
  {
   "cell_type": "markdown",
   "id": "d736cf34-e043-4789-91b0-c19887e0143f",
   "metadata": {},
   "source": [
    "# !pip install pandas\n",
    "Assignment on Store_sales dataset\n",
    "\n",
    "**Load the Dataset**"
   ]
  },
  {
   "cell_type": "code",
   "execution_count": 2,
   "id": "fd79e268-0bd3-4844-af8d-0b1e2b7ceea6",
   "metadata": {},
   "outputs": [
    {
     "name": "stdout",
     "output_type": "stream",
     "text": [
      "   store_id        city  Jan  Feb  Mar  Apr  May  Jun  July  Aug  Sep  Oct  \\\n",
      "0       S_1       Texas    8   20   13   21   17   20    24   17   16    9   \n",
      "1       S_2  California   12   19   15   15   11   19     7   15   10   11   \n",
      "2       S_3  California   16   16   14   19   23    6    13   13   15   14   \n",
      "3       S_4       Texas    8   18   13   10   14   14     6    8    8   18   \n",
      "4       S_5       Texas   19    5   24    9    5   24    10    5   24   15   \n",
      "..      ...         ...  ...  ...  ...  ...  ...  ...   ...  ...  ...  ...   \n",
      "95     S_96       Texas    7   10   20   20   10   15    15   21   15    7   \n",
      "96     S_97  California   13    6    7   15   22   10    21   23   10    6   \n",
      "97     S_98       Texas   16    9    6   14   20   13    11   10    8   22   \n",
      "98     S_99     Arizona   18   16    9    5   12   22    11   13   21   17   \n",
      "99    S_100  California    5   23   17   24   15   21    19   10   12   20   \n",
      "\n",
      "    Nov  Dec  \n",
      "0     7    6  \n",
      "1    21   19  \n",
      "2    24    8  \n",
      "3     7   11  \n",
      "4     6   13  \n",
      "..  ...  ...  \n",
      "95   23   22  \n",
      "96   12    9  \n",
      "97   17   22  \n",
      "98   19   10  \n",
      "99    5    9  \n",
      "\n",
      "[100 rows x 14 columns]\n"
     ]
    }
   ],
   "source": [
    "import pandas as pd\n",
    "df=pd.read_csv(\"store_sales.csv\")\n",
    "print(df)"
   ]
  },
  {
   "cell_type": "markdown",
   "id": "13b8009e-28aa-4c56-8804-a6c417182541",
   "metadata": {},
   "source": [
    "**Calculate the total sales for each store across all months.**"
   ]
  },
  {
   "cell_type": "code",
   "execution_count": 3,
   "id": "3f148a00-b0e5-4caf-85d3-3483c4f62697",
   "metadata": {},
   "outputs": [
    {
     "name": "stdout",
     "output_type": "stream",
     "text": [
      "   store_id  Total_Sales\n",
      "0       S_1          178\n",
      "1       S_2          174\n",
      "2       S_3          181\n",
      "3       S_4          135\n",
      "4       S_5          159\n",
      "..      ...          ...\n",
      "95     S_96          185\n",
      "96     S_97          154\n",
      "97     S_98          168\n",
      "98     S_99          173\n",
      "99    S_100          180\n",
      "\n",
      "[100 rows x 2 columns]\n"
     ]
    }
   ],
   "source": [
    "df['Total_Sales'] = df.iloc[:, 2:].sum(axis=1)\n",
    "print(df[['store_id', 'Total_Sales']])"
   ]
  },
  {
   "cell_type": "markdown",
   "id": "47673b50-bfea-4eb6-9e50-918e87c7c1ff",
   "metadata": {},
   "source": [
    "**Find the average sales for each month across all stores**"
   ]
  },
  {
   "cell_type": "code",
   "execution_count": 4,
   "id": "cfea1028-bd85-4552-ab60-936a13c7d84b",
   "metadata": {},
   "outputs": [
    {
     "name": "stdout",
     "output_type": "stream",
     "text": [
      "Jan             14.46\n",
      "Feb             15.09\n",
      "Mar             14.56\n",
      "Apr             14.57\n",
      "May             13.56\n",
      "Jun             13.80\n",
      "July            14.38\n",
      "Aug             15.81\n",
      "Sep             14.91\n",
      "Oct             14.10\n",
      "Nov             15.31\n",
      "Dec             13.57\n",
      "Total_Sales    174.12\n",
      "dtype: float64\n"
     ]
    }
   ],
   "source": [
    "monthly_averages = df.iloc[:, 2:].mean()\n",
    "print(monthly_averages)"
   ]
  },
  {
   "cell_type": "markdown",
   "id": "6dd912e0-9984-42b8-9bf0-db10a69a300c",
   "metadata": {},
   "source": [
    "**Identify the store with the highest total sales.**"
   ]
  },
  {
   "cell_type": "code",
   "execution_count": 6,
   "id": "dca54b78-dbe5-4095-8e14-e1a73c34dff6",
   "metadata": {},
   "outputs": [
    {
     "name": "stdout",
     "output_type": "stream",
     "text": [
      "store_id             S_86\n",
      "city           California\n",
      "Jan                    15\n",
      "Feb                    23\n",
      "Mar                    24\n",
      "Apr                    18\n",
      "May                    21\n",
      "Jun                    17\n",
      "July                   23\n",
      "Aug                    13\n",
      "Sep                    12\n",
      "Oct                    11\n",
      "Nov                    24\n",
      "Dec                    13\n",
      "Total_Sales           642\n",
      "Name: 85, dtype: object\n"
     ]
    }
   ],
   "source": [
    "df['Total_Sales'] = df.iloc[:, 2:].sum(axis=1)\n",
    "sorted_df = df.sort_values(by='Total_Sales', ascending=False)\n",
    "highest_sales_store = sorted_df.iloc[0]\n",
    "print(highest_sales_store)"
   ]
  },
  {
   "cell_type": "markdown",
   "id": "1c6e048a-7dbe-4975-8126-0ff9d46d0b8d",
   "metadata": {},
   "source": [
    "**Calculate the total sales for each city.**"
   ]
  },
  {
   "cell_type": "code",
   "execution_count": 7,
   "id": "98fdf5f3-5721-4353-b34d-713e98c20450",
   "metadata": {},
   "outputs": [
    {
     "name": "stdout",
     "output_type": "stream",
     "text": [
      "city\n",
      "Arizona       11853\n",
      "California    22566\n",
      "Texas         17817\n",
      "Name: Total_Sales, dtype: int64\n"
     ]
    }
   ],
   "source": [
    "city_sales = df.groupby('city')['Total_Sales'].sum()\n",
    "print(city_sales)"
   ]
  },
  {
   "cell_type": "markdown",
   "id": "b9cd0e10-c37e-485a-9b6b-e6a67cd19c7d",
   "metadata": {},
   "source": [
    "**List stores with total sales greater than 200**"
   ]
  },
  {
   "cell_type": "code",
   "execution_count": 8,
   "id": "a1134ab7-96fe-416c-8da1-daddad0064e6",
   "metadata": {},
   "outputs": [
    {
     "name": "stdout",
     "output_type": "stream",
     "text": [
      "   store_id        city  Jan  Feb  Mar  Apr  May  Jun  July  Aug  Sep  Oct  \\\n",
      "0       S_1       Texas    8   20   13   21   17   20    24   17   16    9   \n",
      "1       S_2  California   12   19   15   15   11   19     7   15   10   11   \n",
      "2       S_3  California   16   16   14   19   23    6    13   13   15   14   \n",
      "3       S_4       Texas    8   18   13   10   14   14     6    8    8   18   \n",
      "4       S_5       Texas   19    5   24    9    5   24    10    5   24   15   \n",
      "..      ...         ...  ...  ...  ...  ...  ...  ...   ...  ...  ...  ...   \n",
      "95     S_96       Texas    7   10   20   20   10   15    15   21   15    7   \n",
      "96     S_97  California   13    6    7   15   22   10    21   23   10    6   \n",
      "97     S_98       Texas   16    9    6   14   20   13    11   10    8   22   \n",
      "98     S_99     Arizona   18   16    9    5   12   22    11   13   21   17   \n",
      "99    S_100  California    5   23   17   24   15   21    19   10   12   20   \n",
      "\n",
      "    Nov  Dec  Total_Sales  \n",
      "0     7    6          712  \n",
      "1    21   19          696  \n",
      "2    24    8          724  \n",
      "3     7   11          540  \n",
      "4     6   13          636  \n",
      "..  ...  ...          ...  \n",
      "95   23   22          740  \n",
      "96   12    9          616  \n",
      "97   17   22          672  \n",
      "98   19   10          692  \n",
      "99    5    9          720  \n",
      "\n",
      "[100 rows x 15 columns]\n"
     ]
    }
   ],
   "source": [
    "df['Total_Sales'] = df.iloc[:, 2:].sum(axis=1)\n",
    "ans= df[df['Total_Sales'] > 200]\n",
    "print(ans)"
   ]
  },
  {
   "cell_type": "markdown",
   "id": "00a46208-69b2-4577-9f68-c278af43c557",
   "metadata": {},
   "source": [
    "**Which month had the highest average sales across all stores?**\n"
   ]
  },
  {
   "cell_type": "code",
   "execution_count": 16,
   "id": "9b85a613-a4b4-499c-9782-97e585120f52",
   "metadata": {},
   "outputs": [
    {
     "name": "stdout",
     "output_type": "stream",
     "text": [
      "Aug\n"
     ]
    }
   ],
   "source": [
    "monthly_averages = df.iloc[:, 2:14].mean()\n",
    "highest_avg_month = monthly_averages.idxmax()\n",
    "print(highest_avg_month)"
   ]
  },
  {
   "cell_type": "code",
   "execution_count": null,
   "id": "c46bc5fe-5318-45d2-95ca-e7a9eb0c2010",
   "metadata": {},
   "outputs": [],
   "source": []
  },
  {
   "cell_type": "markdown",
   "id": "37455b7e-1c05-45d5-9dd1-454527319264",
   "metadata": {},
   "source": [
    "**Which city generated the most revenue?**"
   ]
  },
  {
   "cell_type": "code",
   "execution_count": 18,
   "id": "0ceea861-e5f6-4a86-86f0-788d68a898a5",
   "metadata": {},
   "outputs": [
    {
     "name": "stdout",
     "output_type": "stream",
     "text": [
      "California\n"
     ]
    }
   ],
   "source": [
    "df['Total_Sales'] = df.iloc[:, 2:].sum(axis=1)\n",
    "city_sales = df.groupby('city')['Total_Sales'].sum()\n",
    "highest_revenue_city = city_sales.idxmax()\n",
    "print(highest_revenue_city)"
   ]
  },
  {
   "cell_type": "code",
   "execution_count": null,
   "id": "33cc2854-69da-42ca-91ce-c258ca9b2fb8",
   "metadata": {},
   "outputs": [],
   "source": []
  }
 ],
 "metadata": {
  "kernelspec": {
   "display_name": "Python 3 (ipykernel)",
   "language": "python",
   "name": "python3"
  },
  "language_info": {
   "codemirror_mode": {
    "name": "ipython",
    "version": 3
   },
   "file_extension": ".py",
   "mimetype": "text/x-python",
   "name": "python",
   "nbconvert_exporter": "python",
   "pygments_lexer": "ipython3",
   "version": "3.13.1"
  }
 },
 "nbformat": 4,
 "nbformat_minor": 5
}
